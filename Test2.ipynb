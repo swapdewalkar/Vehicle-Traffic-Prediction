{
 "cells": [
  {
   "cell_type": "code",
   "execution_count": 1,
   "metadata": {},
   "outputs": [
    {
     "name": "stderr",
     "output_type": "stream",
     "text": [
      "/usr/local/lib/python2.7/dist-packages/statsmodels/compat/pandas.py:56: FutureWarning: The pandas.core.datetools module is deprecated and will be removed in a future version. Please use the pandas.tseries module instead.\n",
      "  from pandas.core import datetools\n"
     ]
    }
   ],
   "source": [
    "from pandas import read_csv\n",
    "from pandas import datetime\n",
    "from matplotlib import pyplot\n",
    "from statsmodels.tsa.arima_model import ARIMA\n",
    "from sklearn.metrics import mean_squared_error\n",
    "import numpy as np \n",
    "def parser(x):\n",
    "    return datetime.strptime(x,'%Y-%m-%d %H:%M:%S')\n",
    "\n",
    "series = read_csv('train.csv', header=0, parse_dates=[0], index_col=0, squeeze=True, date_parser=parser)"
   ]
  },
  {
   "cell_type": "code",
   "execution_count": 2,
   "metadata": {},
   "outputs": [
    {
     "name": "stdout",
     "output_type": "stream",
     "text": [
      "(14592,)\n"
     ]
    }
   ],
   "source": [
    "X = series.values\n",
    "X1 = X[X[:,0] == 1][:,1]\n",
    "X2 = X[X[:,0] == 2][:,1]\n",
    "X3 = X[X[:,0] == 3][:,1]\n",
    "X4 = X[X[:,0] == 4][:,1]\n",
    "\n",
    "X = X3\n",
    "X=X.astype(np.float64)\n",
    "\n",
    "print X.shape\n",
    "size = int(len(X) * 0.66)\n",
    "train, test = X[0:size], X[size:len(X)]\n",
    "history = [x for x in train]\n",
    "predictions = list()"
   ]
  },
  {
   "cell_type": "code",
   "execution_count": null,
   "metadata": {},
   "outputs": [],
   "source": [
    "i=0\n",
    "for p in range(6):\n",
    "    for d in range(2):\n",
    "        for q in range(4):\n",
    "            print p,d,q\n",
    "            i=0\n",
    "            for t in range(len(test)):\n",
    "                try:\n",
    "                    model = ARIMA(history, order=(p,d,q))\n",
    "                    model_fit = model.fit(disp=0)\n",
    "                    output = model_fit.forecast()\n",
    "                    yhat = output[0]\n",
    "                    predictions.append(yhat)\n",
    "                    obs = test[t]\n",
    "                    history.append(obs)\n",
    "                    print('predicted=%f, expected=%f' % (yhat, obs))\n",
    "                    if i>5:\n",
    "                        break\n",
    "                    i=i+1;\n",
    "                except:\n",
    "                    break\n",
    "                    \n",
    "error = mean_squared_error(test, predictions)\n",
    "# print('Test MSE: %.3f' % error)\n",
    "# plot\n",
    "# pyplot.plot(test)\n",
    "# pyplot.plot(predictions, color='red')\n",
    "# pyplot.show()"
   ]
  },
  {
   "cell_type": "code",
   "execution_count": null,
   "metadata": {},
   "outputs": [],
   "source": []
  }
 ],
 "metadata": {
  "kernelspec": {
   "display_name": "Python 2",
   "language": "python",
   "name": "python2"
  },
  "language_info": {
   "codemirror_mode": {
    "name": "ipython",
    "version": 2
   },
   "file_extension": ".py",
   "mimetype": "text/x-python",
   "name": "python",
   "nbconvert_exporter": "python",
   "pygments_lexer": "ipython2",
   "version": "2.7.12"
  }
 },
 "nbformat": 4,
 "nbformat_minor": 2
}
